{
 "cells": [
  {
   "cell_type": "markdown",
   "metadata": {
    "deletable": false,
    "editable": false,
    "nbgrader": {
     "checksum": "48770f8b5f5d3062d3badd51fcafc401",
     "grade": false,
     "grade_id": "cell-a6c4f74309fc2379",
     "locked": true,
     "schema_version": 1,
     "solution": false
    }
   },
   "source": [
    "# Assignment 4\n",
    "## Description\n",
    "In this assignment you must read in a file of metropolitan regions and associated sports teams from [assets/wikipedia_data.html](assets/wikipedia_data.html) and answer some questions about each metropolitan region. Each of these regions may have one or more teams from the \"Big 4\": NFL (football, in [assets/nfl.csv](assets/nfl.csv)), MLB (baseball, in [assets/mlb.csv](assets/mlb.csv)), NBA (basketball, in [assets/nba.csv](assets/nba.csv) or NHL (hockey, in [assets/nhl.csv](assets/nhl.csv)). Please keep in mind that all questions are from the perspective of the metropolitan region, and that this file is the \"source of authority\" for the location of a given sports team. Thus teams which are commonly known by a different area (e.g. \"Oakland Raiders\") need to be mapped into the metropolitan region given (e.g. San Francisco Bay Area). This will require some human data understanding outside of the data you've been given (e.g. you will have to hand-code some names, and might need to google to find out where teams are)!\n",
    "\n",
    "For each sport I would like you to answer the question: **what is the win/loss ratio's correlation with the population of the city it is in?** Win/Loss ratio refers to the number of wins over the number of wins plus the number of losses. Remember that to calculate the correlation with [`pearsonr`](https://docs.scipy.org/doc/scipy/reference/generated/scipy.stats.pearsonr.html), so you are going to send in two ordered lists of values, the populations from the wikipedia_data.html file and the win/loss ratio for a given sport in the same order. Average the win/loss ratios for those cities which have multiple teams of a single sport. Each sport is worth an equal amount in this assignment (20%\\*4=80%) of the grade for this assignment. You should only use data **from year 2018** for your analysis -- this is important!\n",
    "\n",
    "## Notes\n",
    "\n",
    "1. Do not include data about the MLS or CFL in any of the work you are doing, we're only interested in the Big 4 in this assignment.\n",
    "2. I highly suggest that you first tackle the four correlation questions in order, as they are all similar and worth the majority of grades for this assignment. This is by design!\n",
    "3. It's fair game to talk with peers about high level strategy as well as the relationship between metropolitan areas and sports teams. However, do not post code solving aspects of the assignment (including such as dictionaries mapping areas to teams, or regexes which will clean up names).\n",
    "4. There may be more teams than the assert statements test, remember to collapse multiple teams in one city into a single value!"
   ]
  },
  {
   "cell_type": "code",
   "execution_count": 1,
   "metadata": {},
   "outputs": [],
   "source": [
    "import pandas as pd\n",
    "import numpy as np\n",
    "import scipy.stats as stats\n",
    "import re"
   ]
  },
  {
   "cell_type": "code",
   "execution_count": 2,
   "metadata": {},
   "outputs": [],
   "source": [
    "team_metro_dic = {'Tampa Bay Lightning':'Tampa Bay Area',\n",
    "            'Boston Bruins':'Boston',\n",
    "            'Toronto Maple Leafs':'Toronto',\n",
    "            'Florida Panthers':'Miami–Fort Lauderdale',\n",
    "            'Detroit Red Wings':'Detroit',\n",
    "            'Montreal Canadiens':'Montreal',\n",
    "            'Ottawa Senators':'Ottawa',\n",
    "            'Buffalo Sabres':'Buffalo',\n",
    "            'Washington Capitals':'Washington, D.C.',\n",
    "            'Pittsburgh Penguins':'Pittsburgh',\n",
    "            'Philadelphia Flyers':'Philadelphia',\n",
    "            'Columbus Blue Jackets':'Columbus',\n",
    "            'New Jersey Devils':'New York City',\n",
    "            'Carolina Hurricanes':'Raleigh',\n",
    "            'New York Islanders':'New York City',\n",
    "            'New York Rangers':'New York City',\n",
    "            'Nashville Predators':'Nashville',\n",
    "            'Winnipeg Jets':'Winnipeg',\n",
    "            'Minnesota Wild':'Minneapolis–Saint Paul',\n",
    "            'Colorado Avalanche':'Denver',\n",
    "            'St. Louis Blues':'St. Louis',\n",
    "            'Dallas Stars':'Dallas–Fort Worth',\n",
    "            'Chicago Blackhawks':'Chicago',\n",
    "            'Vegas Golden Knights':'Las Vegas',\n",
    "            'Anaheim Ducks':'Los Angeles',\n",
    "            'San Jose Sharks':'San Francisco Bay Area',\n",
    "            'Los Angeles Kings':'Los Angeles',\n",
    "            'Calgary Flames':'Calgary',\n",
    "            'Edmonton Oilers':'Edmonton',\n",
    "            'Vancouver Canucks':'Vancouver',\n",
    "            'Arizona Coyotes':'Phoenix',\n",
    "            'Arizona Diamondbacks':'Phoenix',\n",
    "            'Atlanta Braves':'Atlanta',\n",
    "            'Baltimore Orioles':'Baltimore',\n",
    "            'Boston Red Sox':'Boston',\n",
    "            'Chicago Cubs':'Chicago',\n",
    "            'Chicago White Sox':'Chicago',\n",
    "            'Cincinnati Reds':'Cincinnati',\n",
    "            'Cleveland Indians':'Cleveland',\n",
    "            'Colorado Rockies':'Denver',\n",
    "            'Detroit Tigers':'Detroit',\n",
    "            'Houston Astros':'Houston',\n",
    "            'Kansas City Royals':'Kansas City',\n",
    "            'Los Angeles Angels':'Los Angeles',\n",
    "            'Los Angeles Dodgers':'Los Angeles',\n",
    "            'Miami Marlins':'Miami–Fort Lauderdale',\n",
    "            'Milwaukee Brewers':'Milwaukee',\n",
    "            'Minnesota Twins':'Minneapolis–Saint Paul',\n",
    "            'New York Mets':'New York City',\n",
    "            'New York Yankees':'New York City',\n",
    "            'Oakland Athletics':'San Francisco Bay Area',\n",
    "            'Philadelphia Phillies':'Philadelphia',\n",
    "            'Pittsburgh Pirates':'Pittsburgh',\n",
    "            'San Diego Padres':'San Diego',\n",
    "            'San Francisco Giants':'San Francisco Bay Area',\n",
    "            'Seattle Mariners':'Seattle',\n",
    "            'St. Louis Cardinals':'St. Louis',\n",
    "            'Tampa Bay Rays':'Tampa Bay Area',\n",
    "            'Texas Rangers':'Dallas–Fort Worth',\n",
    "            'Toronto Blue Jays':'Toronto',\n",
    "            'Washington Nationals':'Washington, D.C.',\n",
    "            'Arizona Cardinals':'Phoenix',\n",
    "            'Atlanta Falcons':'Atlanta',\n",
    "            'Baltimore Ravens':'Baltimore',\n",
    "            'Buffalo Bills':'Buffalo',\n",
    "            'Carolina Panthers':'Charlotte',\n",
    "            'Chicago Bears':'Chicago',\n",
    "            'Cincinnati Bengals':'Cincinnati',\n",
    "            'Cleveland Browns':'Cleveland',\n",
    "            'Dallas Cowboys':'Dallas–Fort Worth',\n",
    "            'Denver Broncos':'Denver',\n",
    "            'Detroit Lions':'Detroit',\n",
    "            'Green Bay Packers':'Green Bay',\n",
    "            'Houston Texans':'Houston',\n",
    "            'Indianapolis Colts':'Indianapolis',\n",
    "            'Jacksonville Jaguars':'Jacksonville',\n",
    "            'Kansas City Chiefs':'Kansas City',\n",
    "            'Los Angeles Chargers':'Los Angeles',\n",
    "            'Los Angeles Rams':'Los Angeles',\n",
    "            'Miami Dolphins':'Miami–Fort Lauderdale',\n",
    "            'Minnesota Vikings':'Minneapolis–Saint Paul',\n",
    "            'New England Patriots':'Boston',\n",
    "            'New Orleans Saints':'New Orleans',\n",
    "            'New York Giants':'New York City',\n",
    "            'New York Jets':'New York City',\n",
    "            'Oakland Raiders':'San Francisco Bay Area',\n",
    "            'Philadelphia Eagles':'Philadelphia',\n",
    "            'Pittsburgh Steelers':'Pittsburgh',\n",
    "            'San Francisco 49ers':'San Francisco Bay Area',\n",
    "            'Seattle Seahawks':'Seattle',\n",
    "            'Tampa Bay Buccaneers':'Tampa Bay Area',\n",
    "            'Tennessee Titans':'Nashville',\n",
    "            'Washington Redskins':'Washington, D.C.',\n",
    "            'Toronto Raptors':'Toronto',\n",
    "            'Boston Celtics':'Boston',\n",
    "            'Philadelphia 76ers':'Philadelphia',\n",
    "            'Cleveland Cavaliers':'Cleveland',\n",
    "            'Indiana Pacers':'Indianapolis',\n",
    "            'Miami Heat':'Miami–Fort Lauderdale',\n",
    "            'Milwaukee Bucks':'Milwaukee',\n",
    "            'Washington Wizards':'Washington, D.C.',\n",
    "            'Detroit Pistons':'Detroit',\n",
    "            'Charlotte Hornets':'Charlotte',\n",
    "            'New York Knicks':'New York City',\n",
    "            'Brooklyn Nets':'New York City',\n",
    "            'Chicago Bulls':'Chicago',\n",
    "            'Orlando Magic':'Orlando',\n",
    "            'Atlanta Hawks':'Atlanta',\n",
    "            'Houston Rockets':'Houston',\n",
    "            'Golden State Warriors':'San Francisco Bay Area',\n",
    "            'Portland Trail Blazers':'Portland',\n",
    "            'Oklahoma City Thunder':'Oklahoma City',\n",
    "            'Utah Jazz':'Salt Lake City',\n",
    "            'New Orleans Pelicans':'New Orleans',\n",
    "            'San Antonio Spurs':'San Antonio',\n",
    "            'Minnesota Timberwolves':'Minneapolis–Saint Paul',\n",
    "            'Denver Nuggets':'Denver',\n",
    "            'Los Angeles Clippers':'Los Angeles',\n",
    "            'Los Angeles Lakers':'Los Angeles',\n",
    "            'Sacramento Kings':'Sacramento',\n",
    "            'Dallas Mavericks':'Dallas–Fort Worth',\n",
    "            'Memphis Grizzlies':'Memphis',\n",
    "            'Phoenix Suns':'Phoenix'}"
   ]
  },
  {
   "cell_type": "code",
   "execution_count": 3,
   "metadata": {},
   "outputs": [],
   "source": [
    "team_metro_df = pd.DataFrame(data=team_metro_dic, index=[0]).T\n",
    "team_metro_df = team_metro_df.reset_index().rename(columns={'index':'team',0:'Metropolitan area'})"
   ]
  },
  {
   "cell_type": "code",
   "execution_count": 4,
   "metadata": {},
   "outputs": [],
   "source": [
    "mlb_df=pd.read_csv(\"assets/mlb.csv\")\n",
    "nhl_df=pd.read_csv(\"assets/nhl.csv\")\n",
    "nba_df=pd.read_csv(\"assets/nba.csv\")\n",
    "nfl_df=pd.read_csv(\"assets/nfl.csv\")\n",
    "cities=pd.read_html(\"assets/wikipedia_data.html\")[1]\n",
    "cities=cities.iloc[:-1,[0,3,5,6,7,8]]"
   ]
  },
  {
   "cell_type": "code",
   "execution_count": 5,
   "metadata": {},
   "outputs": [],
   "source": [
    "city_popul = cities.copy()\n",
    "city_popul.replace('\\[[\\w\\s]*\\]','',regex=True, inplace=True)\n",
    "city_popul.replace('\\s*\\—\\s*','',regex=True, inplace=True)\n",
    "city_popul.replace('',np.nan, inplace= True)\n",
    "city_popul.rename(columns = {'Population (2016 est.)[8]':'Population'}, inplace=True)\n",
    "city_popul = city_popul.loc[:,['Metropolitan area','Population']]"
   ]
  },
  {
   "cell_type": "code",
   "execution_count": 6,
   "metadata": {},
   "outputs": [],
   "source": [
    "#NHL pre-processing\n",
    "nhl_df_2018 = nhl_df.copy()\n",
    "nhl_df_2018 = nhl_df_2018.loc[:,['team','W','L','year','League']]\n",
    "nhl_df_2018 = nhl_df_2018[nhl_df_2018['year']==2018]\n",
    "nhl_df_2018.replace('[A-Za-z]*\\sDivision',np.nan,regex=True, inplace=True)\n",
    "nhl_df_2018.replace('\\*','',regex=True, inplace=True)\n",
    "nhl_df_2018 = nhl_df_2018.dropna()\n",
    "nhl_df_2018 = nhl_df_2018.merge(team_metro_df, on='team', how='left').merge(city_popul, on='Metropolitan area', how='left')\n",
    "\n",
    "nhl_df_2018['W'] = pd.to_numeric(nhl_df_2018['W'])\n",
    "nhl_df_2018['L'] = pd.to_numeric(nhl_df_2018['L'])\n",
    "nhl_df_2018['Population'] = pd.to_numeric(nhl_df_2018['Population'])\n",
    "\n",
    "nhl_df_2018['win/total'] = nhl_df_2018['W']/(nhl_df_2018['W']+nhl_df_2018['L'])"
   ]
  },
  {
   "cell_type": "code",
   "execution_count": 7,
   "metadata": {},
   "outputs": [],
   "source": [
    "#NBA pre-processing\n",
    "nba_df_2018 = nba_df.copy()\n",
    "nba_df_2018 = nba_df_2018.loc[:,['team','W','L','year','League']]\n",
    "nba_df_2018 = nba_df_2018[nba_df_2018['year']==2018]\n",
    "nba_df_2018.replace('[\\W]*\\([0-9]*\\)','',regex=True, inplace=True)\n",
    "nba_df_2018 = nba_df_2018.merge(team_metro_df, on='team', how='left').merge(city_popul, on='Metropolitan area', how='left')\n",
    "\n",
    "nba_df_2018['W'] = pd.to_numeric(nba_df_2018['W'])\n",
    "nba_df_2018['L'] = pd.to_numeric(nba_df_2018['L'])\n",
    "nba_df_2018['Population'] = pd.to_numeric(nba_df_2018['Population'])\n",
    "\n",
    "nba_df_2018['win/total'] = nba_df_2018['W']/(nba_df_2018['W']+nba_df_2018['L'])"
   ]
  },
  {
   "cell_type": "code",
   "execution_count": 8,
   "metadata": {},
   "outputs": [],
   "source": [
    "#MLB pre-processing\n",
    "mlb_df_2018 = mlb_df.copy()\n",
    "mlb_df_2018 = mlb_df_2018.loc[:,['team','W','L','year','League']]\n",
    "mlb_df_2018 = mlb_df_2018[mlb_df_2018['year']==2018]\n",
    "mlb_df_2018 = mlb_df_2018.merge(team_metro_df, on='team', how='left').merge(city_popul, on='Metropolitan area', how='left')\n",
    "\n",
    "mlb_df_2018[\"W\"] = pd.to_numeric(mlb_df_2018['W'])\n",
    "mlb_df_2018[\"L\"] = pd.to_numeric(mlb_df_2018['L'])\n",
    "mlb_df_2018[\"Population\"] = pd.to_numeric(mlb_df_2018['Population'])\n",
    "\n",
    "mlb_df_2018['win/total'] = mlb_df_2018['W']/(mlb_df_2018['W']+mlb_df_2018['L'])"
   ]
  },
  {
   "cell_type": "code",
   "execution_count": 9,
   "metadata": {},
   "outputs": [],
   "source": [
    "#NFL pre-processing\n",
    "nfl_df_2018 = nfl_df.copy()\n",
    "nfl_df_2018 = nfl_df_2018.loc[:,['team','W','L','year','League']]\n",
    "nfl_df_2018 = nfl_df_2018[nfl_df_2018['year']==2018]\n",
    "nfl_df_2018.replace('(AFC|NFC)\\s(East|North|South|West)','',regex=True, inplace=True)\n",
    "nfl_df_2018.replace('\\*|\\+', '', regex=True, inplace=True)\n",
    "nfl_df_2018.replace('',np.nan, inplace=True)\n",
    "nfl_df_2018 = nfl_df_2018.dropna()\n",
    "nfl_df_2018 = nfl_df_2018.merge(team_metro_df, on='team', how='left').merge(city_popul, on='Metropolitan area', how='left')\n",
    "\n",
    "nfl_df_2018['W'] = pd.to_numeric(nfl_df_2018['W'])\n",
    "nfl_df_2018['L'] = pd.to_numeric(nfl_df_2018['L'])\n",
    "nfl_df_2018['Population'] = pd.to_numeric(nfl_df_2018['Population'])\n",
    "\n",
    "nfl_df_2018['win/total'] = nfl_df_2018['W']/(nfl_df_2018['W']+nfl_df_2018['L'])"
   ]
  },
  {
   "cell_type": "markdown",
   "metadata": {
    "deletable": false,
    "editable": false,
    "nbgrader": {
     "checksum": "369ff9ecf0ee04640574205cbc697f94",
     "grade": false,
     "grade_id": "cell-712b2b5da63d4505",
     "locked": true,
     "schema_version": 1,
     "solution": false
    }
   },
   "source": [
    "## Question 1\n",
    "For this question, calculate the win/loss ratio's correlation with the population of the city it is in for the **NHL** using **2018** data."
   ]
  },
  {
   "cell_type": "code",
   "execution_count": 10,
   "metadata": {
    "deletable": false,
    "nbgrader": {
     "checksum": "1cac4803b02502929f5b1612d48db2b5",
     "grade": false,
     "grade_id": "cell-69b16e4386e58030",
     "locked": false,
     "schema_version": 1,
     "solution": true
    }
   },
   "outputs": [],
   "source": [
    "def nhl_correlation(): \n",
    "    # YOUR CODE HERE\n",
    "    nhl_df_final = nhl_df_2018.groupby('Metropolitan area').mean()\n",
    "    \n",
    "    \n",
    "    population_by_region = nhl_df_final['Population'] # pass in metropolitan area population from cities\n",
    "    win_loss_by_region = nhl_df_final['win/total'] # pass in win/loss ratio from nhl_df in the same order as cities[\"Metropolitan area\"]\n",
    "\n",
    "    \n",
    "    assert len(population_by_region) == len(win_loss_by_region), \"Q1: Your lists must be the same length\"\n",
    "    assert len(population_by_region) == 28, \"Q1: There should be 28 teams being analysed for NHL\"\n",
    "    \n",
    "    return stats.pearsonr(population_by_region, win_loss_by_region)[0]"
   ]
  },
  {
   "cell_type": "code",
   "execution_count": 11,
   "metadata": {},
   "outputs": [
    {
     "data": {
      "text/plain": [
       "0.012486162921209907"
      ]
     },
     "execution_count": 11,
     "metadata": {},
     "output_type": "execute_result"
    }
   ],
   "source": [
    "nhl_correlation()"
   ]
  },
  {
   "cell_type": "code",
   "execution_count": null,
   "metadata": {
    "deletable": false,
    "editable": false,
    "nbgrader": {
     "checksum": "52a581df513c71153e105b93764cda4b",
     "grade": true,
     "grade_id": "cell-ebe0b2dfe1067e63",
     "locked": true,
     "points": 20,
     "schema_version": 1,
     "solution": false
    }
   },
   "outputs": [],
   "source": []
  },
  {
   "cell_type": "markdown",
   "metadata": {
    "deletable": false,
    "editable": false,
    "nbgrader": {
     "checksum": "988912cae4968d81473f46d783e79c16",
     "grade": false,
     "grade_id": "cell-cb964e690298b71d",
     "locked": true,
     "schema_version": 1,
     "solution": false
    }
   },
   "source": [
    "## Question 2\n",
    "For this question, calculate the win/loss ratio's correlation with the population of the city it is in for the **NBA** using **2018** data."
   ]
  },
  {
   "cell_type": "code",
   "execution_count": 12,
   "metadata": {
    "deletable": false,
    "nbgrader": {
     "checksum": "9394222aafc8ccab0a228098ba0d6010",
     "grade": false,
     "grade_id": "cell-5a5f21279e3d3572",
     "locked": false,
     "schema_version": 1,
     "solution": true
    }
   },
   "outputs": [],
   "source": [
    "def nba_correlation():\n",
    "    # YOUR CODE HERE\n",
    "    nba_df_final = nba_df_2018.groupby('Metropolitan area').mean()\n",
    "    \n",
    "    population_by_region =  nba_df_final['Population'] # pass in metropolitan area population from cities\n",
    "    win_loss_by_region =  nba_df_final['win/total'] # pass in win/loss ratio from nba_df in the same order as cities[\"Metropolitan area\"]\n",
    "\n",
    "    assert len(population_by_region) == len(win_loss_by_region), \"Q2: Your lists must be the same length\"\n",
    "    assert len(population_by_region) == 28, \"Q2: There should be 28 teams being analysed for NBA\"\n",
    "\n",
    "    return stats.pearsonr(population_by_region, win_loss_by_region)[0]"
   ]
  },
  {
   "cell_type": "code",
   "execution_count": 13,
   "metadata": {},
   "outputs": [
    {
     "data": {
      "text/plain": [
       "-0.17657160252844617"
      ]
     },
     "execution_count": 13,
     "metadata": {},
     "output_type": "execute_result"
    }
   ],
   "source": [
    "nba_correlation()"
   ]
  },
  {
   "cell_type": "code",
   "execution_count": null,
   "metadata": {
    "deletable": false,
    "editable": false,
    "nbgrader": {
     "checksum": "bbdeb8eb22f525a34c10dc8798324e42",
     "grade": true,
     "grade_id": "cell-e573b2b4a282b470",
     "locked": true,
     "points": 20,
     "schema_version": 1,
     "solution": false
    }
   },
   "outputs": [],
   "source": []
  },
  {
   "cell_type": "markdown",
   "metadata": {
    "deletable": false,
    "editable": false,
    "nbgrader": {
     "checksum": "1a1a5809f675ca033086422007cd73bd",
     "grade": false,
     "grade_id": "cell-96e15e4335df78f4",
     "locked": true,
     "schema_version": 1,
     "solution": false
    }
   },
   "source": [
    "## Question 3\n",
    "For this question, calculate the win/loss ratio's correlation with the population of the city it is in for the **MLB** using **2018** data."
   ]
  },
  {
   "cell_type": "code",
   "execution_count": 14,
   "metadata": {
    "deletable": false,
    "nbgrader": {
     "checksum": "27e8c0da6c9fa0dffc10488314335b6c",
     "grade": false,
     "grade_id": "cell-33b00fc3f3467b0c",
     "locked": false,
     "schema_version": 1,
     "solution": true
    }
   },
   "outputs": [],
   "source": [
    "def mlb_correlation(): \n",
    "    # YOUR CODE HERE\n",
    "    mlb_df_final = mlb_df_2018.groupby('Metropolitan area').mean()\n",
    "    \n",
    "    population_by_region = mlb_df_final['Population'] # pass in metropolitan area population from cities\n",
    "    win_loss_by_region = mlb_df_final['win/total'] # pass in win/loss ratio from mlb_df in the same order as cities[\"Metropolitan area\"]\n",
    "\n",
    "    assert len(population_by_region) == len(win_loss_by_region), \"Q3: Your lists must be the same length\"\n",
    "    assert len(population_by_region) == 26, \"Q3: There should be 26 teams being analysed for MLB\"\n",
    "\n",
    "    return stats.pearsonr(population_by_region, win_loss_by_region)[0]"
   ]
  },
  {
   "cell_type": "code",
   "execution_count": 15,
   "metadata": {},
   "outputs": [
    {
     "data": {
      "text/plain": [
       "0.15027698302669307"
      ]
     },
     "execution_count": 15,
     "metadata": {},
     "output_type": "execute_result"
    }
   ],
   "source": [
    "mlb_correlation()"
   ]
  },
  {
   "cell_type": "code",
   "execution_count": null,
   "metadata": {
    "deletable": false,
    "editable": false,
    "nbgrader": {
     "checksum": "cda33b094ba19ccc37a481e0dd29e0bc",
     "grade": true,
     "grade_id": "cell-764d4476f425c5a2",
     "locked": true,
     "points": 20,
     "schema_version": 1,
     "solution": false
    }
   },
   "outputs": [],
   "source": []
  },
  {
   "cell_type": "markdown",
   "metadata": {
    "deletable": false,
    "editable": false,
    "nbgrader": {
     "checksum": "6977a6da9ed6d8b7a0b7e37bbeda709b",
     "grade": false,
     "grade_id": "cell-793df6c04dfb126e",
     "locked": true,
     "schema_version": 1,
     "solution": false
    }
   },
   "source": [
    "## Question 4\n",
    "For this question, calculate the win/loss ratio's correlation with the population of the city it is in for the **NFL** using **2018** data."
   ]
  },
  {
   "cell_type": "code",
   "execution_count": 16,
   "metadata": {
    "deletable": false,
    "nbgrader": {
     "checksum": "c4914ad1e119278ec2bd567c52640b66",
     "grade": false,
     "grade_id": "cell-8ccebc209aeec8d9",
     "locked": false,
     "schema_version": 1,
     "solution": true
    }
   },
   "outputs": [],
   "source": [
    "def nfl_correlation(): \n",
    "    # YOUR CODE HERE\n",
    "    nfl_df_final = nfl_df_2018.groupby('Metropolitan area').mean()\n",
    "    \n",
    "    population_by_region = nfl_df_final['Population'] # pass in metropolitan area population from cities\n",
    "    win_loss_by_region = nfl_df_final['win/total'] # pass in win/loss ratio from nfl_df in the same order as cities[\"Metropolitan area\"]\n",
    "\n",
    "    assert len(population_by_region) == len(win_loss_by_region), \"Q4: Your lists must be the same length\"\n",
    "    assert len(population_by_region) == 29, \"Q4: There should be 29 teams being analysed for NFL\"\n",
    "\n",
    "    return stats.pearsonr(population_by_region, win_loss_by_region)[0]"
   ]
  },
  {
   "cell_type": "code",
   "execution_count": 17,
   "metadata": {},
   "outputs": [
    {
     "data": {
      "text/plain": [
       "0.004922112149349393"
      ]
     },
     "execution_count": 17,
     "metadata": {},
     "output_type": "execute_result"
    }
   ],
   "source": [
    "nfl_correlation()"
   ]
  },
  {
   "cell_type": "code",
   "execution_count": null,
   "metadata": {
    "deletable": false,
    "editable": false,
    "nbgrader": {
     "checksum": "e9415d6399aa49e3a1a60813afdefa3b",
     "grade": true,
     "grade_id": "cell-de7b148b9554dbda",
     "locked": true,
     "points": 20,
     "schema_version": 1,
     "solution": false
    }
   },
   "outputs": [],
   "source": []
  },
  {
   "cell_type": "markdown",
   "metadata": {
    "deletable": false,
    "editable": false,
    "nbgrader": {
     "checksum": "b02d5cd3273f561e4ae939bb2a41740c",
     "grade": false,
     "grade_id": "cell-97b49d8639e908c4",
     "locked": true,
     "schema_version": 1,
     "solution": false
    }
   },
   "source": [
    "## Question 5\n",
    "In this question I would like you to explore the hypothesis that **given that an area has two sports teams in different sports, those teams will perform the same within their respective sports**. How I would like to see this explored is with a series of paired t-tests (so use [`ttest_rel`](https://docs.scipy.org/doc/scipy/reference/generated/scipy.stats.ttest_rel.html)) between all pairs of sports. Are there any sports where we can reject the null hypothesis? Again, average values where a sport has multiple teams in one region. Remember, you will only be including, for each sport, cities which have teams engaged in that sport, drop others as appropriate. This question is worth 20% of the grade for this assignment."
   ]
  },
  {
   "cell_type": "code",
   "execution_count": null,
   "metadata": {
    "deletable": false,
    "nbgrader": {
     "checksum": "6d78c961eb66f8d8c81f06d33ae8f393",
     "grade": false,
     "grade_id": "cell-92f25f44b8d1179f",
     "locked": false,
     "schema_version": 1,
     "solution": true
    }
   },
   "outputs": [],
   "source": [
    "import pandas as pd\n",
    "import numpy as np\n",
    "import scipy.stats as stats\n",
    "import re\n",
    "\n",
    "mlb_df=pd.read_csv(\"assets/mlb.csv\")\n",
    "nhl_df=pd.read_csv(\"assets/nhl.csv\")\n",
    "nba_df=pd.read_csv(\"assets/nba.csv\")\n",
    "nfl_df=pd.read_csv(\"assets/nfl.csv\")\n",
    "cities=pd.read_html(\"assets/wikipedia_data.html\")[1]\n",
    "cities=cities.iloc[:-1,[0,3,5,6,7,8]]"
   ]
  },
  {
   "cell_type": "code",
   "execution_count": 50,
   "metadata": {},
   "outputs": [],
   "source": [
    "def sports_team_performance():\n",
    "    # YOUR CODE HERE\n",
    "    #NHL\n",
    "    nhl_df_final = nhl_df_2018.copy()\n",
    "\n",
    "    #NBA\n",
    "    nba_df_final = nba_df_2018.copy()\n",
    "\n",
    "    #MLB\n",
    "    mlb_df_final = mlb_df_2018.copy()\n",
    "\n",
    "    #NFL\n",
    "    nfl_df_final = nfl_df_2018.copy()\n",
    "    \n",
    "    All_sports_2018 = pd.concat([nhl_df_final, nba_df_final, mlb_df_final, nfl_df_final],\n",
    "                                axis=0, join = 'outer',ignore_index = True)\n",
    "    \n",
    "    All_sports_2018 = All_sports_2018.set_index(['League','Metropolitan area']).sort_index(level='League').drop(columns='Population')\n",
    "    \n",
    "    All_sports_final = All_sports_2018.groupby(['League','Metropolitan area']).mean()\n",
    "    \n",
    "    All_mlb = All_sports_final.loc['MLB']\n",
    "    All_nfl = All_sports_final.loc['NFL']\n",
    "    All_nhl = All_sports_final.loc['NHL']\n",
    "    All_nba = All_sports_final.loc['NBA']\n",
    "    \n",
    "    NFL_NHL = All_nfl.merge(All_nhl, how='inner',on='Metropolitan area', suffixes=['_nfl','_nhl'])\n",
    "    NFL_NBA = All_nfl.merge(All_nba, how='inner',on='Metropolitan area', suffixes=['_nfl','_nba'])\n",
    "    MLB_NFL = All_mlb.merge(All_nfl, how='inner',on='Metropolitan area', suffixes=['_mlb','_nfl'])\n",
    "    MLB_NHL = All_mlb.merge(All_nhl, how='inner',on='Metropolitan area', suffixes=['_mlb','_nhl'])\n",
    "    MLB_NBA = All_mlb.merge(All_nba, how='inner',on='Metropolitan area', suffixes=['_mlb','_nba'])\n",
    "    NHL_NBA = All_nhl.merge(All_nba, how='inner',on='Metropolitan area', suffixes=['_nhl','_nba'])\n",
    "    \n",
    "    NFL_NHL_value = stats.ttest_rel(NFL_NHL['win/total_nfl'], NFL_NHL['win/total_nhl'])\n",
    "    NFL_NBA_value = stats.ttest_rel(NFL_NBA['win/total_nfl'], NFL_NBA['win/total_nba'])\n",
    "    MLB_NFL_value = stats.ttest_rel(MLB_NFL['win/total_mlb'], MLB_NFL['win/total_nfl'])\n",
    "    MLB_NHL_value = stats.ttest_rel(MLB_NHL['win/total_mlb'], MLB_NHL['win/total_nhl'])\n",
    "    MLB_NBA_value = stats.ttest_rel(MLB_NBA['win/total_mlb'], MLB_NBA['win/total_nba'])\n",
    "    NHL_NBA_value = stats.ttest_rel(NHL_NBA['win/total_nhl'], NHL_NBA['win/total_nba'])\n",
    "    \n",
    "    NFL_NHL_result = NFL_NHL_value[1]\n",
    "    NFL_NBA_result = NFL_NBA_value[1]\n",
    "    MLB_NFL_result = MLB_NFL_value[1]\n",
    "    MLB_NHL_result = MLB_NHL_value[1]\n",
    "    MLB_NBA_result = MLB_NBA_value[1]\n",
    "    NHL_NBA_result = NHL_NBA_value[1]\n",
    "       \n",
    "    \n",
    "    # Note: p_values is a full dataframe, so df.loc[\"NFL\",\"NBA\"] should be the same as df.loc[\"NBA\",\"NFL\"] and\n",
    "    # df.loc[\"NFL\",\"NFL\"] should return np.nan\n",
    "    sports = ['NFL', 'NBA', 'NHL', 'MLB']\n",
    "    p_values = pd.DataFrame(data=[[np.nan,NFL_NBA_result,NFL_NHL_result, MLB_NFL_result],\n",
    "                            [NFL_NBA_result, np.nan, NHL_NBA_result, MLB_NBA_result],\n",
    "                            [NFL_NHL_result, NHL_NBA_result, np.nan, MLB_NHL_result],\n",
    "                            [MLB_NFL_result, MLB_NBA_result, MLB_NHL_result, np.nan]],\n",
    "                         index = sports, columns = sports)\n",
    "    \n",
    "    assert abs(p_values.loc[\"NBA\", \"NHL\"] - 0.02) <= 1e-2, \"The NBA-NHL p-value should be around 0.02\"\n",
    "    assert abs(p_values.loc[\"MLB\", \"NFL\"] - 0.80) <= 1e-2, \"The MLB-NFL p-value should be around 0.80\"\n",
    "    return p_values"
   ]
  },
  {
   "cell_type": "code",
   "execution_count": 51,
   "metadata": {},
   "outputs": [
    {
     "data": {
      "text/html": [
       "<div>\n",
       "<style scoped>\n",
       "    .dataframe tbody tr th:only-of-type {\n",
       "        vertical-align: middle;\n",
       "    }\n",
       "\n",
       "    .dataframe tbody tr th {\n",
       "        vertical-align: top;\n",
       "    }\n",
       "\n",
       "    .dataframe thead th {\n",
       "        text-align: right;\n",
       "    }\n",
       "</style>\n",
       "<table border=\"1\" class=\"dataframe\">\n",
       "  <thead>\n",
       "    <tr style=\"text-align: right;\">\n",
       "      <th></th>\n",
       "      <th>NFL</th>\n",
       "      <th>NBA</th>\n",
       "      <th>NHL</th>\n",
       "      <th>MLB</th>\n",
       "    </tr>\n",
       "  </thead>\n",
       "  <tbody>\n",
       "    <tr>\n",
       "      <th>NFL</th>\n",
       "      <td>NaN</td>\n",
       "      <td>0.941792</td>\n",
       "      <td>0.030883</td>\n",
       "      <td>0.802069</td>\n",
       "    </tr>\n",
       "    <tr>\n",
       "      <th>NBA</th>\n",
       "      <td>0.941792</td>\n",
       "      <td>NaN</td>\n",
       "      <td>0.022297</td>\n",
       "      <td>0.950540</td>\n",
       "    </tr>\n",
       "    <tr>\n",
       "      <th>NHL</th>\n",
       "      <td>0.030883</td>\n",
       "      <td>0.022297</td>\n",
       "      <td>NaN</td>\n",
       "      <td>0.000708</td>\n",
       "    </tr>\n",
       "    <tr>\n",
       "      <th>MLB</th>\n",
       "      <td>0.802069</td>\n",
       "      <td>0.950540</td>\n",
       "      <td>0.000708</td>\n",
       "      <td>NaN</td>\n",
       "    </tr>\n",
       "  </tbody>\n",
       "</table>\n",
       "</div>"
      ],
      "text/plain": [
       "          NFL       NBA       NHL       MLB\n",
       "NFL       NaN  0.941792  0.030883  0.802069\n",
       "NBA  0.941792       NaN  0.022297  0.950540\n",
       "NHL  0.030883  0.022297       NaN  0.000708\n",
       "MLB  0.802069  0.950540  0.000708       NaN"
      ]
     },
     "execution_count": 51,
     "metadata": {},
     "output_type": "execute_result"
    }
   ],
   "source": [
    "sports_team_performance()"
   ]
  },
  {
   "cell_type": "code",
   "execution_count": null,
   "metadata": {
    "deletable": false,
    "editable": false,
    "nbgrader": {
     "checksum": "2a596ab421a45cc01168d10e8fbb8f89",
     "grade": true,
     "grade_id": "cell-fb4b9cb5ff4570a6",
     "locked": true,
     "points": 20,
     "schema_version": 1,
     "solution": false
    }
   },
   "outputs": [],
   "source": []
  }
 ],
 "metadata": {
  "coursera": {
   "schema_names": [
    "mooc_adswpy_1_v2_assignment4"
   ]
  },
  "kernelspec": {
   "display_name": "Python 3",
   "language": "python",
   "name": "python3"
  },
  "language_info": {
   "codemirror_mode": {
    "name": "ipython",
    "version": 3
   },
   "file_extension": ".py",
   "mimetype": "text/x-python",
   "name": "python",
   "nbconvert_exporter": "python",
   "pygments_lexer": "ipython3",
   "version": "3.7.3"
  }
 },
 "nbformat": 4,
 "nbformat_minor": 4
}
